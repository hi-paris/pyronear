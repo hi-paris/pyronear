{
 "cells": [
  {
   "cell_type": "code",
   "execution_count": null,
   "metadata": {},
   "outputs": [],
   "source": [
    "#command : yolo task=detect mode=train model=yolov8s.pt imgsz=1280 data=\"C:\\Users\\maeva\\OneDrive\\Bureau\\yolov8\\pyronear\\yolo_models\\albumentations\\data.yaml\" epochs=10 batch=64 name=yolov10n"
   ]
  },
  {
   "cell_type": "markdown",
   "metadata": {},
   "source": [
    "This is a script that verify that the custom augmentations are being picked up during training. We have to modify the training script to read and apply these augmentations."
   ]
  },
  {
   "cell_type": "code",
   "execution_count": 12,
   "metadata": {},
   "outputs": [
    {
     "name": "stdout",
     "output_type": "stream",
     "text": [
      "Augmentation type: Blur, parameters: {'p': 0.01, 'blur_limit': 7}\n",
      "Augmentation type: RandomBrightnessContrast, parameters: {'p': 0.5, 'brightness_limit': 0.1, 'contrast_limit': 0.1}\n",
      "Augmentation type: Crop, parameters: {'p': 0.5, 'height': 1024, 'width': 1024}\n",
      "Augmentation type: GaussNoise, parameters: {'p': 0.5, 'var_limit': [10.0, 50.0]}\n",
      "Augmentation type: HorizontalFlip, parameters: {'p': 0.5}\n",
      "Augmentation type: HueSaturationValue, parameters: {'p': 0.5, 'hue_shift_limit': 20, 'sat_shift_limit': 50}\n",
      "Augmentation type: MotionBlur, parameters: {'p': 0.5, 'blur_limit': 7}\n",
      "ValueError during augmentation: Your 'label_fields' are not valid - them must have same names as params in dict\n",
      "Augmented image saved at augmented_image.jpg\n"
     ]
    },
    {
     "name": "stderr",
     "output_type": "stream",
     "text": [
      "C:\\Users\\maeva\\AppData\\Local\\Temp\\ipykernel_27844\\3660001763.py:33: UserWarning: Argument 'height' is not valid and will be ignored.\n",
      "  T.append(aug_type(**params))\n",
      "C:\\Users\\maeva\\AppData\\Local\\Temp\\ipykernel_27844\\3660001763.py:33: UserWarning: Argument 'width' is not valid and will be ignored.\n",
      "  T.append(aug_type(**params))\n"
     ]
    }
   ],
   "source": [
    "import albumentations as A\n",
    "import cv2\n",
    "import yaml\n",
    "from ultralytics.data.augment import Albumentations\n",
    "\n",
    "# Define the CustomAlbumentations class\n",
    "class CustomAlbumentations(Albumentations):\n",
    "    def __init__(self, yaml_file='data.yaml', p=1.0):\n",
    "        self.p = p\n",
    "        self.transform = None\n",
    "        try:\n",
    "            # Load custom augmentations from the YAML file\n",
    "            with open(yaml_file, 'r') as f:\n",
    "                data = yaml.safe_load(f)\n",
    "            \n",
    "            # Check if 'augmentations' key is in the YAML file\n",
    "            if 'augmentations' not in data:\n",
    "                print(f\"Warning: 'augmentations' key not found in {yaml_file}.\")\n",
    "                return\n",
    "            \n",
    "            custom_augmentations = data.get('augmentations', [])\n",
    "            \n",
    "            # Initialize albumentations transformations\n",
    "            T = []\n",
    "            for aug in custom_augmentations:\n",
    "                try:\n",
    "                    aug_type = getattr(A, aug['type'])\n",
    "                    params = {k: v for k, v in aug.items() if k != 'type'}\n",
    "                    \n",
    "                    # Print parameters for debugging\n",
    "                    print(f\"Augmentation type: {aug['type']}, parameters: {params}\")\n",
    "                    \n",
    "                    T.append(aug_type(**params))\n",
    "                except AttributeError as e:\n",
    "                    print(f\"Error: {aug['type']} not found in albumentations. {e}\")\n",
    "                except Exception as e:\n",
    "                    print(f\"Error processing augmentation {aug}. {e}\")\n",
    "            \n",
    "            if T:\n",
    "                # Adjust bbox_params only if using bounding boxes\n",
    "                self.transform = A.Compose(T, bbox_params=A.BboxParams(format=\"yolo\", label_fields=[\"class_labels\"]))\n",
    "            else:\n",
    "                print(\"No valid augmentations found.\")\n",
    "        \n",
    "        except ImportError:\n",
    "            print(\"Albumentations library is not installed.\")\n",
    "        except yaml.YAMLError as e:\n",
    "            print(f\"Error reading YAML file: {e}\")\n",
    "        except Exception as e:\n",
    "            print(f\"An error occurred: {e}\")\n",
    "\n",
    "    def apply(self, image, bboxes=None):\n",
    "        bboxes = bboxes or []\n",
    "        if self.transform:\n",
    "            try:\n",
    "                augmented = self.transform(image=image, bboxes=bboxes)\n",
    "                return augmented['image'], augmented['bboxes']\n",
    "            except ValueError as e:\n",
    "                print(f\"ValueError during augmentation: {e}\")\n",
    "                return image, bboxes\n",
    "            except Exception as e:\n",
    "                print(f\"Error applying transformations: {e}\")\n",
    "                return image, bboxes\n",
    "        return image, bboxes\n",
    "\n",
    "# Function to apply augmentations and save the output image\n",
    "def test_augmentations(image_path, albumentations):\n",
    "    # Load image\n",
    "    image = cv2.imread(image_path)\n",
    "    if image is None:\n",
    "        raise FileNotFoundError(f\"Image not found: {image_path}\")\n",
    "    image = cv2.cvtColor(image, cv2.COLOR_BGR2RGB)  # Convert image to RGB\n",
    "    \n",
    "    # Define bounding boxes (empty list if not used)\n",
    "    bboxes = []\n",
    "\n",
    "    # Apply augmentations\n",
    "    augmented_image, _ = albumentations.apply(image, bboxes)\n",
    "    \n",
    "    # Convert back to BGR for saving\n",
    "    augmented_image = cv2.cvtColor(augmented_image, cv2.COLOR_RGB2BGR)\n",
    "    \n",
    "    # Save augmented image\n",
    "    output_path = 'augmented_image.jpg'\n",
    "    cv2.imwrite(output_path, augmented_image)\n",
    "    print(f\"Augmented image saved at {output_path}\")\n",
    "\n",
    "# Main function to test\n",
    "if __name__ == \"__main__\":\n",
    "    # Initialize CustomAlbumentations with the path to your YAML file\n",
    "    albumentations = CustomAlbumentations(yaml_file='data.yaml')\n",
    "    \n",
    "    # Test with a sample image\n",
    "    test_augmentations('image_test.jpg', albumentations)\n"
   ]
  }
 ],
 "metadata": {
  "kernelspec": {
   "display_name": ".venv",
   "language": "python",
   "name": "python3"
  },
  "language_info": {
   "codemirror_mode": {
    "name": "ipython",
    "version": 3
   },
   "file_extension": ".py",
   "mimetype": "text/x-python",
   "name": "python",
   "nbconvert_exporter": "python",
   "pygments_lexer": "ipython3",
   "version": "3.11.4"
  }
 },
 "nbformat": 4,
 "nbformat_minor": 2
}
