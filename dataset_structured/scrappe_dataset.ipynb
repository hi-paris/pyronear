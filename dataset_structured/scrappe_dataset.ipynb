{
 "cells": [
  {
   "cell_type": "markdown",
   "metadata": {},
   "source": [
    "## Code pour extraire des fichiers"
   ]
  },
  {
   "cell_type": "code",
   "execution_count": 1,
   "metadata": {},
   "outputs": [],
   "source": [
    "import zipfile\n",
    "import os\n",
    "import shutil"
   ]
  },
  {
   "cell_type": "markdown",
   "metadata": {},
   "source": [
    "Unzip un fichier"
   ]
  },
  {
   "cell_type": "code",
   "execution_count": 4,
   "metadata": {},
   "outputs": [
    {
     "name": "stdout",
     "output_type": "stream",
     "text": [
      "Fichier ZIP décompressé dans extracted_files\n",
      "Aucun dossier de labels trouvé dans extracted_files\\FIGLIB_ANNOTATED_RESIZED\n"
     ]
    }
   ],
   "source": [
    "def unzip_file(zip_path, extract_path):\n",
    "    \"\"\"Décompresse le fichier ZIP.\"\"\"\n",
    "    with zipfile.ZipFile(zip_path, 'r') as zip_ref:\n",
    "        zip_ref.extractall(extract_path)\n",
    "    print(f'Fichier ZIP décompressé dans {extract_path}')\n",
    "\n",
    "    unzip_file(zip_path, extract_path)"
   ]
  },
  {
   "cell_type": "markdown",
   "metadata": {},
   "source": [
    "Extraire les 10 premiers fichiers et les stocker dans un nouveau fichier"
   ]
  },
  {
   "cell_type": "code",
   "execution_count": 21,
   "metadata": {},
   "outputs": [
    {
     "name": "stdout",
     "output_type": "stream",
     "text": [
      "Les 10 premiers dossiers ont été copiés dans 10first\n"
     ]
    }
   ],
   "source": [
    "import os\n",
    "import shutil\n",
    "\n",
    "def extract_first_10_folders(src_folder, dest_folder):\n",
    "    \"\"\"\n",
    "    Copies the first 10 directories from the source folder to the destination folder.\n",
    "\n",
    "    Parameters:\n",
    "    src_folder (str): Path to the source folder containing directories to be copied.\n",
    "    dest_folder (str): Path to the destination folder where the directories will be copied.\n",
    "\n",
    "    The function creates the destination folder if it does not exist. It then lists all directories in\n",
    "    the source folder, selects the first 10, and copies each of them to the destination folder.\n",
    "    \"\"\"\n",
    "    # Create the destination folder if it doesn't exist\n",
    "    if not os.path.exists(dest_folder):\n",
    "        os.makedirs(dest_folder)\n",
    "\n",
    "    # List all directories in the source folder\n",
    "    all_items = os.listdir(src_folder)\n",
    "    folders = [item for item in all_items if os.path.isdir(os.path.join(src_folder, item))]\n",
    "\n",
    "    # Select the first 10 directories\n",
    "    first_10_folders = folders[:10]\n",
    "\n",
    "    # Copy selected directories to the destination folder\n",
    "    for folder in first_10_folders:\n",
    "        src_folder_path = os.path.join(src_folder, folder)\n",
    "        dest_folder_path = os.path.join(dest_folder, folder)\n",
    "        shutil.copytree(src_folder_path, dest_folder_path)\n",
    "\n",
    "    print(f\"Les 10 premiers dossiers ont été copiés dans {dest_folder}\")\n",
    "\n",
    "# Example usage\n",
    "src_folder = \"extracted_files/FIGLIB_ANNOTATED_RESIZED\"\n",
    "dest_folder = \"10first\"\n",
    "extract_first_10_folders(src_folder, dest_folder)\n"
   ]
  },
  {
   "cell_type": "markdown",
   "metadata": {},
   "source": [
    "Copier des fichiers dans un autre fichier"
   ]
  },
  {
   "cell_type": "code",
   "execution_count": 22,
   "metadata": {},
   "outputs": [
    {
     "name": "stdout",
     "output_type": "stream",
     "text": [
      "Les images du dossier '20160604_FIRE_rm-n-mobo-c' ont été copiées dans '10first\\20160604_FIRE_rm-n-mobo-c\\images'\n",
      "Les images du dossier '20160604_FIRE_smer-tcs3-mobo-c' ont été copiées dans '10first\\20160604_FIRE_smer-tcs3-mobo-c\\images'\n",
      "Les images du dossier '20160619_FIRE_lp-e-iqeye' ont été copiées dans '10first\\20160619_FIRE_lp-e-iqeye\\images'\n",
      "Les images du dossier '20160619_FIRE_om-e-mobo-c' ont été copiées dans '10first\\20160619_FIRE_om-e-mobo-c\\images'\n",
      "Les images du dossier '20160619_FIRE_pi-s-mobo-c' ont été copiées dans '10first\\20160619_FIRE_pi-s-mobo-c\\images'\n",
      "Les images du dossier '20160711_FIRE_ml-n-mobo-c' ont été copiées dans '10first\\20160711_FIRE_ml-n-mobo-c\\images'\n",
      "Les images du dossier '20160718_FIRE_lp-n-iqeye' ont été copiées dans '10first\\20160718_FIRE_lp-n-iqeye\\images'\n",
      "Les images du dossier '20160718_FIRE_mg-s-iqeye' ont été copiées dans '10first\\20160718_FIRE_mg-s-iqeye\\images'\n",
      "Les images du dossier '20160718_FIRE_mw-e-mobo-c' ont été copiées dans '10first\\20160718_FIRE_mw-e-mobo-c\\images'\n",
      "Les images du dossier '20160722_FIRE_mg-s-iqeye' ont été copiées dans '10first\\20160722_FIRE_mg-s-iqeye\\images'\n"
     ]
    }
   ],
   "source": [
    "import os\n",
    "import shutil\n",
    "\n",
    "def copy_images_from_folders(src_folder, dest_folder):\n",
    "    \"\"\"\n",
    "    Copies image files from subfolders in the source folder to an 'images' subfolder within each subfolder.\n",
    "\n",
    "    Parameters:\n",
    "    src_folder (str): Path to the source folder containing subfolders with images.\n",
    "    dest_folder (str): Path to the destination folder where the 'images' subfolders will be created.\n",
    "\n",
    "    The function first checks if the source folder exists. It then creates an 'images' subfolder in each\n",
    "    subfolder of the source folder (if it doesn't already exist) and copies all image files (with extensions\n",
    "    .png, .jpg, .jpeg, .gif, .bmp, .tiff) into the respective 'images' subfolder.\n",
    "    \"\"\"\n",
    "    if not os.path.exists(src_folder):\n",
    "        print(f\"Le dossier source '{src_folder}' n'existe pas.\")\n",
    "        return\n",
    "\n",
    "    # List all subfolders in the source folder\n",
    "    all_items = os.listdir(src_folder)\n",
    "    folders = [item for item in all_items if os.path.isdir(os.path.join(src_folder, item))]\n",
    "\n",
    "    for folder in folders:\n",
    "        folder_path = os.path.join(src_folder, folder)\n",
    "        images_dest_folder = os.path.join(folder_path, 'images')\n",
    "\n",
    "        # Create the 'images' subfolder if it doesn't exist\n",
    "        if not os.path.exists(images_dest_folder):\n",
    "            os.makedirs(images_dest_folder)\n",
    "\n",
    "        # List all files in the subfolder\n",
    "        files = os.listdir(folder_path)\n",
    "        image_files = [file for file in files if file.lower().endswith(('.png', '.jpg', '.jpeg', '.gif', '.bmp', '.tiff'))]\n",
    "\n",
    "        # Copy image files to the 'images' subfolder\n",
    "        for image_file in image_files:\n",
    "            src_image_path = os.path.join(folder_path, image_file)\n",
    "            dest_image_path = os.path.join(images_dest_folder, image_file)\n",
    "            shutil.copy(src_image_path, dest_image_path)\n",
    "\n",
    "        print(f\"Les images du dossier '{folder}' ont été copiées dans '{images_dest_folder}'\")\n",
    "\n",
    "# Example usage\n",
    "src_folder = \"10first\"\n",
    "copy_images_from_folders(src_folder, src_folder)\n"
   ]
  },
  {
   "cell_type": "markdown",
   "metadata": {},
   "source": [
    "Migrer plusieurs images de differents fichiers dans un seul et meme fichier"
   ]
  },
  {
   "cell_type": "code",
   "execution_count": 23,
   "metadata": {},
   "outputs": [
    {
     "name": "stdout",
     "output_type": "stream",
     "text": [
      "Le dossier 'images' n'existe pas dans 'images_total'.\n",
      "Toutes les images ont été copiées dans '10first\\images_total'.\n"
     ]
    }
   ],
   "source": [
    "import os\n",
    "import shutil\n",
    "\n",
    "def collect_images(src_folder, dest_folder):\n",
    "    \"\"\"\n",
    "    Collects image files from 'images' subfolders within each subfolder of the source folder and copies them\n",
    "    to a destination folder with modified filenames.\n",
    "\n",
    "    Parameters:\n",
    "    src_folder (str): Path to the source folder containing subfolders with 'images' subfolders.\n",
    "    dest_folder (str): Path to the destination folder where the collected images will be copied.\n",
    "\n",
    "    The function checks if the source folder exists and creates the destination folder if it does not. It then\n",
    "    iterates through each subfolder in the source folder, copies image files from the 'images' subfolder within\n",
    "    each subfolder to the destination folder, and prefixes the filenames with the name of the subfolder.\n",
    "    \"\"\"\n",
    "    if not os.path.exists(src_folder):\n",
    "        print(f\"Le dossier source '{src_folder}' n'existe pas.\")\n",
    "        return\n",
    "\n",
    "    if not os.path.exists(dest_folder):\n",
    "        os.makedirs(dest_folder)\n",
    "\n",
    "    # List all subfolders in the source folder\n",
    "    all_items = os.listdir(src_folder)\n",
    "    folders = [item for item in all_items if os.path.isdir(os.path.join(src_folder, item))]\n",
    "\n",
    "    for folder in folders:\n",
    "        images_src_folder = os.path.join(src_folder, folder, 'images')\n",
    "\n",
    "        if not os.path.exists(images_src_folder):\n",
    "            print(f\"Le dossier 'images' n'existe pas dans '{folder}'.\")\n",
    "            continue\n",
    "\n",
    "        # List and copy image files from 'images' folder to destination\n",
    "        files = os.listdir(images_src_folder)\n",
    "        image_files = [file for file in files if file.lower().endswith(('.png', '.jpg', '.jpeg', '.gif', '.bmp', '.tiff'))]\n",
    "\n",
    "        for image_file in image_files:\n",
    "            src_image_path = os.path.join(images_src_folder, image_file)\n",
    "            dest_image_path = os.path.join(dest_folder, f\"{folder}_{image_file}\")\n",
    "            shutil.copy(src_image_path, dest_image_path)\n",
    "\n",
    "    print(f\"Toutes les images ont été copiées dans '{dest_folder}'.\")\n",
    "\n",
    "# Example usage\n",
    "src_folder = \"10first\"\n",
    "dest_folder = os.path.join(src_folder, \"images_total\")\n",
    "collect_images(src_folder, dest_folder)\n"
   ]
  },
  {
   "cell_type": "markdown",
   "metadata": {},
   "source": [
    "Migrer plusieurs labels de differents fichiers dans un seul et meme fichier"
   ]
  },
  {
   "cell_type": "code",
   "execution_count": 25,
   "metadata": {},
   "outputs": [
    {
     "name": "stdout",
     "output_type": "stream",
     "text": [
      "Le dossier 'images' n'existe pas dans 'images_total'.\n",
      "Tous les fichiers du dossier 'images' ont été copiés dans '10first\\images_total'.\n",
      "Le dossier 'labels' n'existe pas dans 'images_total'.\n",
      "Le dossier 'labels' n'existe pas dans 'labels_total'.\n",
      "Tous les fichiers du dossier 'labels' ont été copiés dans '10first\\labels_total'.\n"
     ]
    }
   ],
   "source": [
    "import os\n",
    "import shutil\n",
    "\n",
    "def collect_files(src_folder, subfolder_name, dest_folder):\n",
    "    \"\"\"\n",
    "    Collects files from a specified subfolder within each subfolder of the source folder and copies them\n",
    "    to a destination folder with modified filenames.\n",
    "\n",
    "    Parameters:\n",
    "    src_folder (str): Path to the source folder containing subfolders with the specified subfolder.\n",
    "    subfolder_name (str): Name of the subfolder within each subfolder from which files will be collected.\n",
    "    dest_folder (str): Path to the destination folder where the collected files will be copied.\n",
    "\n",
    "    The function checks if the source folder exists and creates the destination folder if it does not. It then\n",
    "    iterates through each subfolder in the source folder, copies files from the specified subfolder within each\n",
    "    subfolder to the destination folder, and prefixes the filenames with the name of the subfolder.\n",
    "    \"\"\"\n",
    "    if not os.path.exists(src_folder):\n",
    "        print(f\"Le dossier source '{src_folder}' n'existe pas.\")\n",
    "        return\n",
    "\n",
    "    if not os.path.exists(dest_folder):\n",
    "        os.makedirs(dest_folder)\n",
    "\n",
    "    # List all subfolders in the source folder\n",
    "    all_items = os.listdir(src_folder)\n",
    "    folders = [item for item in all_items if os.path.isdir(os.path.join(src_folder, item))]\n",
    "\n",
    "    for folder in folders:\n",
    "        subfolder_path = os.path.join(src_folder, folder, subfolder_name)\n",
    "\n",
    "        if not os.path.exists(subfolder_path):\n",
    "            print(f\"Le dossier '{subfolder_name}' n'existe pas dans '{folder}'.\")\n",
    "            continue\n",
    "\n",
    "        # List and copy files from the specified subfolder to destination\n",
    "        files = os.listdir(subfolder_path)\n",
    "\n",
    "        for file in files:\n",
    "            src_file_path = os.path.join(subfolder_path, file)\n",
    "            dest_file_path = os.path.join(dest_folder, f\"{folder}_{file}\")\n",
    "            shutil.copy(src_file_path, dest_file_path)\n",
    "\n",
    "    print(f\"Tous les fichiers du dossier '{subfolder_name}' ont été copiés dans '{dest_folder}'.\")\n",
    "\n",
    "# Example usage for images\n",
    "src_folder = \"10first\"\n",
    "images_dest_folder = os.path.join(src_folder, \"images_total\")\n",
    "collect_files(src_folder, 'images', images_dest_folder)\n",
    "\n",
    "# Example usage for labels\n",
    "labels_dest_folder = os.path.join(src_folder, \"labels_total\")\n",
    "collect_files(src_folder, 'labels', labels_dest_folder)\n"
   ]
  },
  {
   "cell_type": "markdown",
   "metadata": {},
   "source": [
    "repartir en train et val pour image et val avec les memes images dans train et val "
   ]
  },
  {
   "cell_type": "code",
   "execution_count": 27,
   "metadata": {},
   "outputs": [
    {
     "name": "stdout",
     "output_type": "stream",
     "text": [
      "Les fichiers ont été répartis entre '10first/images_split\\train' et '10first/images_split\\val'.\n",
      "Les fichiers ont été répartis entre '10first/labels_split\\train' et '10first/labels_split\\val'.\n"
     ]
    },
    {
     "ename": "ValueError",
     "evalue": "Les fichiers images et labels ne correspondent pas dans le dossier 'train'.",
     "output_type": "error",
     "traceback": [
      "\u001b[1;31m---------------------------------------------------------------------------\u001b[0m",
      "\u001b[1;31mValueError\u001b[0m                                Traceback (most recent call last)",
      "Cell \u001b[1;32mIn[27], line 61\u001b[0m\n\u001b[0;32m     58\u001b[0m         \u001b[38;5;28;01mif\u001b[39;00m image_files_base \u001b[38;5;241m!=\u001b[39m label_files_base:\n\u001b[0;32m     59\u001b[0m             \u001b[38;5;28;01mraise\u001b[39;00m \u001b[38;5;167;01mValueError\u001b[39;00m(\u001b[38;5;124mf\u001b[39m\u001b[38;5;124m\"\u001b[39m\u001b[38;5;124mLes fichiers images et labels ne correspondent pas dans le dossier \u001b[39m\u001b[38;5;124m'\u001b[39m\u001b[38;5;132;01m{\u001b[39;00msplit\u001b[38;5;132;01m}\u001b[39;00m\u001b[38;5;124m'\u001b[39m\u001b[38;5;124m.\u001b[39m\u001b[38;5;124m\"\u001b[39m)\n\u001b[1;32m---> 61\u001b[0m \u001b[43mcheck_files_correspondence\u001b[49m\u001b[43m(\u001b[49m\u001b[43mimages_dest_folder\u001b[49m\u001b[43m,\u001b[49m\u001b[43m \u001b[49m\u001b[43mlabels_dest_folder\u001b[49m\u001b[43m)\u001b[49m\n\u001b[0;32m     63\u001b[0m \u001b[38;5;28mprint\u001b[39m(\u001b[38;5;124m\"\u001b[39m\u001b[38;5;124mLes fichiers images et labels correspondent correctement entre les dossiers \u001b[39m\u001b[38;5;124m'\u001b[39m\u001b[38;5;124mtrain\u001b[39m\u001b[38;5;124m'\u001b[39m\u001b[38;5;124m et \u001b[39m\u001b[38;5;124m'\u001b[39m\u001b[38;5;124mval\u001b[39m\u001b[38;5;124m'\u001b[39m\u001b[38;5;124m.\u001b[39m\u001b[38;5;124m\"\u001b[39m)\n",
      "Cell \u001b[1;32mIn[27], line 59\u001b[0m, in \u001b[0;36mcheck_files_correspondence\u001b[1;34m(images_split_folder, labels_split_folder)\u001b[0m\n\u001b[0;32m     57\u001b[0m \u001b[38;5;66;03m# Vérifier la correspondance\u001b[39;00m\n\u001b[0;32m     58\u001b[0m \u001b[38;5;28;01mif\u001b[39;00m image_files_base \u001b[38;5;241m!=\u001b[39m label_files_base:\n\u001b[1;32m---> 59\u001b[0m     \u001b[38;5;28;01mraise\u001b[39;00m \u001b[38;5;167;01mValueError\u001b[39;00m(\u001b[38;5;124mf\u001b[39m\u001b[38;5;124m\"\u001b[39m\u001b[38;5;124mLes fichiers images et labels ne correspondent pas dans le dossier \u001b[39m\u001b[38;5;124m'\u001b[39m\u001b[38;5;132;01m{\u001b[39;00msplit\u001b[38;5;132;01m}\u001b[39;00m\u001b[38;5;124m'\u001b[39m\u001b[38;5;124m.\u001b[39m\u001b[38;5;124m\"\u001b[39m)\n",
      "\u001b[1;31mValueError\u001b[0m: Les fichiers images et labels ne correspondent pas dans le dossier 'train'."
     ]
    }
   ],
   "source": [
    "import os\n",
    "import shutil\n",
    "import random\n",
    "\n",
    "def split_data(src_folder, dest_folder, split_ratio=0.8):\n",
    "    \"\"\"\n",
    "    Splits files from a source folder into training and validation sets, and copies them into separate destination folders.\n",
    "\n",
    "    Parameters:\n",
    "    src_folder (str): Path to the source folder containing the files to be split.\n",
    "    dest_folder (str): Path to the destination folder where the training and validation folders will be created.\n",
    "    split_ratio (float): Ratio of files to be used for the training set (default is 0.8).\n",
    "\n",
    "    The function creates 'train' and 'val' subfolders in the destination folder, shuffles the files from the source folder,\n",
    "    splits them based on the provided ratio, and copies them into the corresponding destination folders.\n",
    "    \"\"\"\n",
    "    # Create destination folders if they do not exist\n",
    "    train_folder = os.path.join(dest_folder, 'train')\n",
    "    val_folder = os.path.join(dest_folder, 'val')\n",
    "    os.makedirs(train_folder, exist_ok=True)\n",
    "    os.makedirs(val_folder, exist_ok=True)\n",
    "\n",
    "    # List all files in the source folder and shuffle them\n",
    "    files = os.listdir(src_folder)\n",
    "    random.shuffle(files)\n",
    "\n",
    "    # Calculate the split index\n",
    "    split_index = int(len(files) * split_ratio)\n",
    "\n",
    "    # Split files into training and validation sets\n",
    "    train_files = files[:split_index]\n",
    "    val_files = files[split_index:]\n",
    "\n",
    "    # Copy files to their respective folders\n",
    "    for file in train_files:\n",
    "        shutil.copy(os.path.join(src_folder, file), os.path.join(train_folder, file))\n",
    "\n",
    "    for file in val_files:\n",
    "        shutil.copy(os.path.join(src_folder, file), os.path.join(val_folder, file))\n",
    "\n",
    "    print(f\"Files have been split between '{train_folder}' and '{val_folder}'.\")\n",
    "\n",
    "# Example usage for images\n",
    "images_src_folder = \"10first/images_total\"\n",
    "images_dest_folder = \"10first/images_split\"\n",
    "split_data(images_src_folder, images_dest_folder)\n",
    "\n",
    "# Example usage for labels\n",
    "labels_src_folder = \"10first/labels_total\"\n",
    "labels_dest_folder = \"10first/labels_split\"\n",
    "split_data(labels_src_folder, labels_dest_folder)\n",
    "\n",
    "def check_files_correspondence(images_split_folder, labels_split_folder):\n",
    "    \"\"\"\n",
    "    Checks if the image files and label files have corresponding matches in the training and validation sets.\n",
    "\n",
    "    Parameters:\n",
    "    images_split_folder (str): Path to the folder containing split image files.\n",
    "    labels_split_folder (str): Path to the folder containing split label files.\n",
    "\n",
    "    The function verifies that for each split ('train' and 'val'), the base names of image files correspond to the base names\n",
    "    of label files. It raises an error if there is any mismatch.\n",
    "    \"\"\"\n",
    "    for split in ['train', 'val']:\n",
    "        image_files = set(os.listdir(os.path.join(images_split_folder, split)))\n",
    "        label_files = set(os.listdir(os.path.join(labels_split_folder, split)))\n",
    "\n",
    "        # Remove extensions for comparison\n",
    "        image_files_base = set(os.path.splitext(file)[0] for file in image_files)\n",
    "        label_files_base = set(os.path.splitext(file)[0] for file in label_files)\n",
    "\n",
    "        # Check for correspondence\n",
    "        if image_files_base != label_files_base:\n",
    "            raise ValueError(f\"Image and label files do not match in the '{split}' folder.\")\n",
    "\n",
    "print(\"Verifying file correspondence...\")\n",
    "check_files_correspondence(images_dest_folder, labels_dest_folder)\n",
    "print(\"Image and label files correspond correctly between the 'train' and 'val' folders.\")\n"
   ]
  },
  {
   "cell_type": "markdown",
   "metadata": {},
   "source": [
    "remplacer les labels sans objets par 1 "
   ]
  },
  {
   "cell_type": "code",
   "execution_count": null,
   "metadata": {},
   "outputs": [],
   "source": []
  }
 ],
 "metadata": {
  "kernelspec": {
   "display_name": ".venv",
   "language": "python",
   "name": "python3"
  },
  "language_info": {
   "codemirror_mode": {
    "name": "ipython",
    "version": 3
   },
   "file_extension": ".py",
   "mimetype": "text/x-python",
   "name": "python",
   "nbconvert_exporter": "python",
   "pygments_lexer": "ipython3",
   "version": "3.11.4"
  }
 },
 "nbformat": 4,
 "nbformat_minor": 2
}
