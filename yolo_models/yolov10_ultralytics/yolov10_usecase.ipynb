{
 "cells": [
  {
   "cell_type": "markdown",
   "id": "721b7d92",
   "metadata": {},
   "source": [
    "# yolov10 training ( not from ultralytics)"
   ]
  },
  {
   "cell_type": "code",
   "execution_count": 1,
   "id": "1fec1264-fb35-474c-9480-de5a8d195aa9",
   "metadata": {
    "scrolled": true
   },
   "outputs": [
    {
     "name": "stdout",
     "output_type": "stream",
     "text": [
      "Python 3.11.4\n"
     ]
    }
   ],
   "source": [
    "!python --version"
   ]
  },
  {
   "cell_type": "markdown",
   "id": "898d6d78-8c9d-48fb-9734-d9ac35f3b45e",
   "metadata": {},
   "source": [
    "### Download repo and installing required packages"
   ]
  },
  {
   "cell_type": "code",
   "execution_count": 2,
   "id": "543567b2-03c8-4f1a-8399-7a9f3301dd21",
   "metadata": {},
   "outputs": [
    {
     "name": "stdout",
     "output_type": "stream",
     "text": [
      "^C\n",
      "Note: you may need to restart the kernel to use updated packages.\n"
     ]
    }
   ],
   "source": [
    "pip install git+https://github.com/THU-MIG/yolov10.git"
   ]
  },
  {
   "cell_type": "code",
   "execution_count": 2,
   "id": "93daa598-b933-4ade-b71e-47ae734cc292",
   "metadata": {},
   "outputs": [
    {
     "name": "stdout",
     "output_type": "stream",
     "text": [
      "Processing c:\\users\\maeva\\onedrive\\bureau\\yolov10_2\\yolov10\n",
      "  Installing build dependencies: started\n",
      "  Installing build dependencies: finished with status 'done'\n",
      "  Getting requirements to build wheel: started\n",
      "  Getting requirements to build wheel: finished with status 'done'\n",
      "  Preparing metadata (pyproject.toml): started\n",
      "  Preparing metadata (pyproject.toml): finished with status 'done'\n",
      "Collecting matplotlib>=3.3.0 (from ultralytics==8.1.34)\n",
      "  Using cached matplotlib-3.9.0-cp311-cp311-win_amd64.whl.metadata (11 kB)\n",
      "Collecting opencv-python>=4.6.0 (from ultralytics==8.1.34)\n",
      "  Using cached opencv_python-4.10.0.82-cp37-abi3-win_amd64.whl.metadata (20 kB)\n",
      "Collecting pillow>=7.1.2 (from ultralytics==8.1.34)\n",
      "  Using cached pillow-10.3.0-cp311-cp311-win_amd64.whl.metadata (9.4 kB)\n",
      "Collecting pyyaml>=5.3.1 (from ultralytics==8.1.34)\n",
      "  Using cached PyYAML-6.0.1-cp311-cp311-win_amd64.whl.metadata (2.1 kB)\n",
      "Collecting requests>=2.23.0 (from ultralytics==8.1.34)\n",
      "  Using cached requests-2.32.3-py3-none-any.whl.metadata (4.6 kB)\n",
      "Collecting scipy>=1.4.1 (from ultralytics==8.1.34)\n",
      "  Using cached scipy-1.13.1-cp311-cp311-win_amd64.whl.metadata (60 kB)\n",
      "Collecting torch>=1.8.0 (from ultralytics==8.1.34)\n",
      "  Using cached torch-2.3.1-cp311-cp311-win_amd64.whl.metadata (26 kB)\n",
      "Collecting torchvision>=0.9.0 (from ultralytics==8.1.34)\n",
      "  Using cached torchvision-0.18.1-cp311-cp311-win_amd64.whl.metadata (6.6 kB)\n",
      "Collecting tqdm>=4.64.0 (from ultralytics==8.1.34)\n",
      "  Using cached tqdm-4.66.4-py3-none-any.whl.metadata (57 kB)\n",
      "Requirement already satisfied: psutil in c:\\users\\maeva\\onedrive\\bureau\\yolov10_2\\.venv\\lib\\site-packages (from ultralytics==8.1.34) (5.9.8)\n",
      "Collecting py-cpuinfo (from ultralytics==8.1.34)\n",
      "  Using cached py_cpuinfo-9.0.0-py3-none-any.whl.metadata (794 bytes)\n",
      "Collecting thop>=0.1.1 (from ultralytics==8.1.34)\n",
      "  Using cached thop-0.1.1.post2209072238-py3-none-any.whl.metadata (2.7 kB)\n",
      "Collecting pandas>=1.1.4 (from ultralytics==8.1.34)\n",
      "  Using cached pandas-2.2.2-cp311-cp311-win_amd64.whl.metadata (19 kB)\n",
      "Collecting seaborn>=0.11.0 (from ultralytics==8.1.34)\n",
      "  Using cached seaborn-0.13.2-py3-none-any.whl.metadata (5.4 kB)\n",
      "Collecting contourpy>=1.0.1 (from matplotlib>=3.3.0->ultralytics==8.1.34)\n",
      "  Using cached contourpy-1.2.1-cp311-cp311-win_amd64.whl.metadata (5.8 kB)\n",
      "Collecting cycler>=0.10 (from matplotlib>=3.3.0->ultralytics==8.1.34)\n",
      "  Using cached cycler-0.12.1-py3-none-any.whl.metadata (3.8 kB)\n",
      "Collecting fonttools>=4.22.0 (from matplotlib>=3.3.0->ultralytics==8.1.34)\n",
      "  Using cached fonttools-4.53.0-cp311-cp311-win_amd64.whl.metadata (165 kB)\n",
      "Collecting kiwisolver>=1.3.1 (from matplotlib>=3.3.0->ultralytics==8.1.34)\n",
      "  Using cached kiwisolver-1.4.5-cp311-cp311-win_amd64.whl.metadata (6.5 kB)\n",
      "Collecting numpy>=1.23 (from matplotlib>=3.3.0->ultralytics==8.1.34)\n",
      "  Using cached numpy-1.26.4-cp311-cp311-win_amd64.whl.metadata (61 kB)\n",
      "Requirement already satisfied: packaging>=20.0 in c:\\users\\maeva\\onedrive\\bureau\\yolov10_2\\.venv\\lib\\site-packages (from matplotlib>=3.3.0->ultralytics==8.1.34) (24.1)\n",
      "Collecting pyparsing>=2.3.1 (from matplotlib>=3.3.0->ultralytics==8.1.34)\n",
      "  Using cached pyparsing-3.1.2-py3-none-any.whl.metadata (5.1 kB)\n",
      "Requirement already satisfied: python-dateutil>=2.7 in c:\\users\\maeva\\onedrive\\bureau\\yolov10_2\\.venv\\lib\\site-packages (from matplotlib>=3.3.0->ultralytics==8.1.34) (2.9.0.post0)\n",
      "Collecting pytz>=2020.1 (from pandas>=1.1.4->ultralytics==8.1.34)\n",
      "  Using cached pytz-2024.1-py2.py3-none-any.whl.metadata (22 kB)\n",
      "Collecting tzdata>=2022.7 (from pandas>=1.1.4->ultralytics==8.1.34)\n",
      "  Using cached tzdata-2024.1-py2.py3-none-any.whl.metadata (1.4 kB)\n",
      "Collecting charset-normalizer<4,>=2 (from requests>=2.23.0->ultralytics==8.1.34)\n",
      "  Using cached charset_normalizer-3.3.2-cp311-cp311-win_amd64.whl.metadata (34 kB)\n",
      "Collecting idna<4,>=2.5 (from requests>=2.23.0->ultralytics==8.1.34)\n",
      "  Using cached idna-3.7-py3-none-any.whl.metadata (9.9 kB)\n",
      "Collecting urllib3<3,>=1.21.1 (from requests>=2.23.0->ultralytics==8.1.34)\n",
      "  Using cached urllib3-2.2.1-py3-none-any.whl.metadata (6.4 kB)\n",
      "Collecting certifi>=2017.4.17 (from requests>=2.23.0->ultralytics==8.1.34)\n",
      "  Using cached certifi-2024.6.2-py3-none-any.whl.metadata (2.2 kB)\n",
      "Collecting filelock (from torch>=1.8.0->ultralytics==8.1.34)\n",
      "  Downloading filelock-3.15.1-py3-none-any.whl.metadata (2.8 kB)\n",
      "Requirement already satisfied: typing-extensions>=4.8.0 in c:\\users\\maeva\\onedrive\\bureau\\yolov10_2\\.venv\\lib\\site-packages (from torch>=1.8.0->ultralytics==8.1.34) (4.12.2)\n",
      "Collecting sympy (from torch>=1.8.0->ultralytics==8.1.34)\n",
      "  Using cached sympy-1.12.1-py3-none-any.whl.metadata (12 kB)\n",
      "Collecting networkx (from torch>=1.8.0->ultralytics==8.1.34)\n",
      "  Using cached networkx-3.3-py3-none-any.whl.metadata (5.1 kB)\n",
      "Collecting jinja2 (from torch>=1.8.0->ultralytics==8.1.34)\n",
      "  Using cached jinja2-3.1.4-py3-none-any.whl.metadata (2.6 kB)\n",
      "Collecting fsspec (from torch>=1.8.0->ultralytics==8.1.34)\n",
      "  Using cached fsspec-2024.6.0-py3-none-any.whl.metadata (11 kB)\n",
      "Collecting mkl<=2021.4.0,>=2021.1.1 (from torch>=1.8.0->ultralytics==8.1.34)\n",
      "  Using cached mkl-2021.4.0-py2.py3-none-win_amd64.whl.metadata (1.4 kB)\n",
      "Requirement already satisfied: colorama in c:\\users\\maeva\\onedrive\\bureau\\yolov10_2\\.venv\\lib\\site-packages (from tqdm>=4.64.0->ultralytics==8.1.34) (0.4.6)\n",
      "Collecting intel-openmp==2021.* (from mkl<=2021.4.0,>=2021.1.1->torch>=1.8.0->ultralytics==8.1.34)\n",
      "  Using cached intel_openmp-2021.4.0-py2.py3-none-win_amd64.whl.metadata (1.2 kB)\n",
      "Collecting tbb==2021.* (from mkl<=2021.4.0,>=2021.1.1->torch>=1.8.0->ultralytics==8.1.34)\n",
      "  Using cached tbb-2021.12.0-py3-none-win_amd64.whl.metadata (1.1 kB)\n",
      "Requirement already satisfied: six>=1.5 in c:\\users\\maeva\\onedrive\\bureau\\yolov10_2\\.venv\\lib\\site-packages (from python-dateutil>=2.7->matplotlib>=3.3.0->ultralytics==8.1.34) (1.16.0)\n",
      "Collecting MarkupSafe>=2.0 (from jinja2->torch>=1.8.0->ultralytics==8.1.34)\n",
      "  Using cached MarkupSafe-2.1.5-cp311-cp311-win_amd64.whl.metadata (3.1 kB)\n",
      "Collecting mpmath<1.4.0,>=1.1.0 (from sympy->torch>=1.8.0->ultralytics==8.1.34)\n",
      "  Using cached mpmath-1.3.0-py3-none-any.whl.metadata (8.6 kB)\n",
      "Using cached matplotlib-3.9.0-cp311-cp311-win_amd64.whl (8.0 MB)\n",
      "Using cached opencv_python-4.10.0.82-cp37-abi3-win_amd64.whl (38.8 MB)\n",
      "Using cached pandas-2.2.2-cp311-cp311-win_amd64.whl (11.6 MB)\n",
      "Using cached pillow-10.3.0-cp311-cp311-win_amd64.whl (2.5 MB)\n",
      "Using cached PyYAML-6.0.1-cp311-cp311-win_amd64.whl (144 kB)\n",
      "Using cached requests-2.32.3-py3-none-any.whl (64 kB)\n",
      "Using cached scipy-1.13.1-cp311-cp311-win_amd64.whl (46.2 MB)\n",
      "Using cached seaborn-0.13.2-py3-none-any.whl (294 kB)\n",
      "Using cached thop-0.1.1.post2209072238-py3-none-any.whl (15 kB)\n",
      "Using cached torch-2.3.1-cp311-cp311-win_amd64.whl (159.8 MB)\n",
      "Using cached torchvision-0.18.1-cp311-cp311-win_amd64.whl (1.2 MB)\n",
      "Using cached tqdm-4.66.4-py3-none-any.whl (78 kB)\n",
      "Using cached py_cpuinfo-9.0.0-py3-none-any.whl (22 kB)\n",
      "Using cached certifi-2024.6.2-py3-none-any.whl (164 kB)\n",
      "Using cached charset_normalizer-3.3.2-cp311-cp311-win_amd64.whl (99 kB)\n",
      "Using cached contourpy-1.2.1-cp311-cp311-win_amd64.whl (188 kB)\n",
      "Using cached cycler-0.12.1-py3-none-any.whl (8.3 kB)\n",
      "Using cached fonttools-4.53.0-cp311-cp311-win_amd64.whl (2.2 MB)\n",
      "Using cached idna-3.7-py3-none-any.whl (66 kB)\n",
      "Using cached kiwisolver-1.4.5-cp311-cp311-win_amd64.whl (56 kB)\n",
      "Using cached mkl-2021.4.0-py2.py3-none-win_amd64.whl (228.5 MB)\n",
      "Using cached intel_openmp-2021.4.0-py2.py3-none-win_amd64.whl (3.5 MB)\n",
      "Using cached tbb-2021.12.0-py3-none-win_amd64.whl (286 kB)\n",
      "Using cached numpy-1.26.4-cp311-cp311-win_amd64.whl (15.8 MB)\n",
      "Using cached pyparsing-3.1.2-py3-none-any.whl (103 kB)\n",
      "Using cached pytz-2024.1-py2.py3-none-any.whl (505 kB)\n",
      "Using cached tzdata-2024.1-py2.py3-none-any.whl (345 kB)\n",
      "Using cached urllib3-2.2.1-py3-none-any.whl (121 kB)\n",
      "Downloading filelock-3.15.1-py3-none-any.whl (15 kB)\n",
      "Using cached fsspec-2024.6.0-py3-none-any.whl (176 kB)\n",
      "Using cached jinja2-3.1.4-py3-none-any.whl (133 kB)\n",
      "Using cached networkx-3.3-py3-none-any.whl (1.7 MB)\n",
      "Using cached sympy-1.12.1-py3-none-any.whl (5.7 MB)\n",
      "Using cached MarkupSafe-2.1.5-cp311-cp311-win_amd64.whl (17 kB)\n",
      "Using cached mpmath-1.3.0-py3-none-any.whl (536 kB)\n",
      "Building wheels for collected packages: ultralytics\n",
      "  Building wheel for ultralytics (pyproject.toml): started\n",
      "  Building wheel for ultralytics (pyproject.toml): finished with status 'done'\n",
      "  Created wheel for ultralytics: filename=ultralytics-8.1.34-py3-none-any.whl size=735249 sha256=1b32f615b90146dffaa6567ef86b78203e7c5beb5411bd01431ab56652ce00c0\n",
      "  Stored in directory: C:\\Users\\maeva\\AppData\\Local\\Temp\\pip-ephem-wheel-cache-igp533tq\\wheels\\ec\\11\\20\\40505b585ad669128d044dccb27013a639b2fafc9ed42c6f4c\n",
      "Successfully built ultralytics\n",
      "Installing collected packages: tbb, pytz, py-cpuinfo, mpmath, intel-openmp, urllib3, tzdata, tqdm, sympy, pyyaml, pyparsing, pillow, numpy, networkx, mkl, MarkupSafe, kiwisolver, idna, fsspec, fonttools, filelock, cycler, charset-normalizer, certifi, scipy, requests, pandas, opencv-python, jinja2, contourpy, torch, matplotlib, torchvision, thop, seaborn, ultralytics\n",
      "Successfully installed MarkupSafe-2.1.5 certifi-2024.6.2 charset-normalizer-3.3.2 contourpy-1.2.1 cycler-0.12.1 filelock-3.15.1 fonttools-4.53.0 fsspec-2024.6.0 idna-3.7 intel-openmp-2021.4.0 jinja2-3.1.4 kiwisolver-1.4.5 matplotlib-3.9.0 mkl-2021.4.0 mpmath-1.3.0 networkx-3.3 numpy-1.26.4 opencv-python-4.10.0.82 pandas-2.2.2 pillow-10.3.0 py-cpuinfo-9.0.0 pyparsing-3.1.2 pytz-2024.1 pyyaml-6.0.1 requests-2.32.3 scipy-1.13.1 seaborn-0.13.2 sympy-1.12.1 tbb-2021.12.0 thop-0.1.1.post2209072238 torch-2.3.1 torchvision-0.18.1 tqdm-4.66.4 tzdata-2024.1 ultralytics-8.1.34 urllib3-2.2.1\n"
     ]
    }
   ],
   "source": [
    "!pip install . "
   ]
  },
  {
   "cell_type": "markdown",
   "id": "5c339def-268e-4d43-b682-7017d9309f31",
   "metadata": {},
   "source": [
    "### Downloading pretrained weights"
   ]
  },
  {
   "cell_type": "markdown",
   "id": "1f40c1a3",
   "metadata": {},
   "source": [
    "the script :\n",
    "\n",
    "**Create a Directory**: The script first checks if a directory named weights exists in the current working directory. If not, it creates one.\n",
    "\n",
    "**Download Weights**: It then loops over a list of URLs, each pointing to a pretrained model file. The script downloads each file into the weights directory."
   ]
  },
  {
   "cell_type": "code",
   "execution_count": 2,
   "id": "ff76e1fc-07c0-44b0-9548-c8c9c3d84caa",
   "metadata": {},
   "outputs": [
    {
     "name": "stdout",
     "output_type": "stream",
     "text": [
      "Downloaded c:\\Users\\maeva\\OneDrive\\Bureau\\yolov8\\pyro-mlops\\yolov10\\weights\\yolov10n.pt\n",
      "Downloaded c:\\Users\\maeva\\OneDrive\\Bureau\\yolov8\\pyro-mlops\\yolov10\\weights\\yolov10s.pt\n",
      "Downloaded c:\\Users\\maeva\\OneDrive\\Bureau\\yolov8\\pyro-mlops\\yolov10\\weights\\yolov10m.pt\n",
      "Downloaded c:\\Users\\maeva\\OneDrive\\Bureau\\yolov8\\pyro-mlops\\yolov10\\weights\\yolov10b.pt\n",
      "Downloaded c:\\Users\\maeva\\OneDrive\\Bureau\\yolov8\\pyro-mlops\\yolov10\\weights\\yolov10x.pt\n",
      "Downloaded c:\\Users\\maeva\\OneDrive\\Bureau\\yolov8\\pyro-mlops\\yolov10\\weights\\yolov10l.pt\n"
     ]
    }
   ],
   "source": [
    "import os\n",
    "import urllib.request\n",
    "\n",
    "# Create a directory for the weights in the current working directory\n",
    "weights_dir = os.path.join(os.getcwd(), \"weights\")\n",
    "os.makedirs(weights_dir, exist_ok=True)\n",
    "\n",
    "# URLs of the weight files\n",
    "urls = [\n",
    "    \"https://github.com/jameslahm/yolov10/releases/download/v1.0/yolov10n.pt\",\n",
    "    \"https://github.com/jameslahm/yolov10/releases/download/v1.0/yolov10s.pt\",\n",
    "    \"https://github.com/jameslahm/yolov10/releases/download/v1.0/yolov10m.pt\",\n",
    "    \"https://github.com/jameslahm/yolov10/releases/download/v1.0/yolov10b.pt\",\n",
    "    \"https://github.com/jameslahm/yolov10/releases/download/v1.0/yolov10x.pt\",\n",
    "    \"https://github.com/jameslahm/yolov10/releases/download/v1.0/yolov10l.pt\"\n",
    "]\n",
    "\n",
    "# Download each file\n",
    "for url in urls:\n",
    "    file_name = os.path.join(weights_dir, os.path.basename(url))\n",
    "    urllib.request.urlretrieve(url, file_name)\n",
    "    print(f\"Downloaded {file_name}\")"
   ]
  },
  {
   "cell_type": "markdown",
   "id": "a6e89a42-0cd5-44ea-827c-91fec737c2c5",
   "metadata": {},
   "source": [
    "# Inference using pretrained model"
   ]
  },
  {
   "cell_type": "markdown",
   "id": "f21825ef",
   "metadata": {},
   "source": [
    "**Command**: You'll use the YOLOv10 command-line interface. The task=detect and mode=predict specify that the model should run in detection and prediction mode.\n",
    "\n",
    "**Model and Image**: Specify the model file and the image on which you want to run detection."
   ]
  },
  {
   "cell_type": "code",
   "execution_count": 2,
   "id": "d7775424",
   "metadata": {},
   "outputs": [
    {
     "name": "stdout",
     "output_type": "stream",
     "text": [
      "Requirement already satisfied: ultralytics in c:\\users\\maeva\\onedrive\\bureau\\yolov8\\pyro-mlops\\.venv\\lib\\site-packages (8.2.48)\n",
      "Requirement already satisfied: numpy<2.0.0,>=1.23.0 in c:\\users\\maeva\\onedrive\\bureau\\yolov8\\pyro-mlops\\.venv\\lib\\site-packages (from ultralytics) (1.26.4)\n",
      "Requirement already satisfied: matplotlib>=3.3.0 in c:\\users\\maeva\\onedrive\\bureau\\yolov8\\pyro-mlops\\.venv\\lib\\site-packages (from ultralytics) (3.9.0)\n",
      "Requirement already satisfied: opencv-python>=4.6.0 in c:\\users\\maeva\\onedrive\\bureau\\yolov8\\pyro-mlops\\.venv\\lib\\site-packages (from ultralytics) (4.10.0.82)\n",
      "Requirement already satisfied: pillow>=7.1.2 in c:\\users\\maeva\\onedrive\\bureau\\yolov8\\pyro-mlops\\.venv\\lib\\site-packages (from ultralytics) (10.3.0)\n",
      "Requirement already satisfied: pyyaml>=5.3.1 in c:\\users\\maeva\\onedrive\\bureau\\yolov8\\pyro-mlops\\.venv\\lib\\site-packages (from ultralytics) (6.0.1)\n",
      "Requirement already satisfied: requests>=2.23.0 in c:\\users\\maeva\\onedrive\\bureau\\yolov8\\pyro-mlops\\.venv\\lib\\site-packages (from ultralytics) (2.32.3)\n",
      "Requirement already satisfied: scipy>=1.4.1 in c:\\users\\maeva\\onedrive\\bureau\\yolov8\\pyro-mlops\\.venv\\lib\\site-packages (from ultralytics) (1.13.1)\n",
      "Requirement already satisfied: torch>=1.8.0 in c:\\users\\maeva\\onedrive\\bureau\\yolov8\\pyro-mlops\\.venv\\lib\\site-packages (from ultralytics) (2.3.1)\n",
      "Requirement already satisfied: torchvision>=0.9.0 in c:\\users\\maeva\\onedrive\\bureau\\yolov8\\pyro-mlops\\.venv\\lib\\site-packages (from ultralytics) (0.18.1)\n",
      "Requirement already satisfied: tqdm>=4.64.0 in c:\\users\\maeva\\onedrive\\bureau\\yolov8\\pyro-mlops\\.venv\\lib\\site-packages (from ultralytics) (4.66.4)\n",
      "Requirement already satisfied: psutil in c:\\users\\maeva\\onedrive\\bureau\\yolov8\\pyro-mlops\\.venv\\lib\\site-packages (from ultralytics) (5.9.8)\n",
      "Requirement already satisfied: py-cpuinfo in c:\\users\\maeva\\onedrive\\bureau\\yolov8\\pyro-mlops\\.venv\\lib\\site-packages (from ultralytics) (9.0.0)\n",
      "Requirement already satisfied: pandas>=1.1.4 in c:\\users\\maeva\\onedrive\\bureau\\yolov8\\pyro-mlops\\.venv\\lib\\site-packages (from ultralytics) (2.2.2)\n",
      "Requirement already satisfied: seaborn>=0.11.0 in c:\\users\\maeva\\onedrive\\bureau\\yolov8\\pyro-mlops\\.venv\\lib\\site-packages (from ultralytics) (0.13.2)\n",
      "Requirement already satisfied: ultralytics-thop>=2.0.0 in c:\\users\\maeva\\onedrive\\bureau\\yolov8\\pyro-mlops\\.venv\\lib\\site-packages (from ultralytics) (2.0.0)\n",
      "Requirement already satisfied: contourpy>=1.0.1 in c:\\users\\maeva\\onedrive\\bureau\\yolov8\\pyro-mlops\\.venv\\lib\\site-packages (from matplotlib>=3.3.0->ultralytics) (1.2.1)\n",
      "Requirement already satisfied: cycler>=0.10 in c:\\users\\maeva\\onedrive\\bureau\\yolov8\\pyro-mlops\\.venv\\lib\\site-packages (from matplotlib>=3.3.0->ultralytics) (0.12.1)\n",
      "Requirement already satisfied: fonttools>=4.22.0 in c:\\users\\maeva\\onedrive\\bureau\\yolov8\\pyro-mlops\\.venv\\lib\\site-packages (from matplotlib>=3.3.0->ultralytics) (4.53.0)\n",
      "Requirement already satisfied: kiwisolver>=1.3.1 in c:\\users\\maeva\\onedrive\\bureau\\yolov8\\pyro-mlops\\.venv\\lib\\site-packages (from matplotlib>=3.3.0->ultralytics) (1.4.5)\n",
      "Requirement already satisfied: packaging>=20.0 in c:\\users\\maeva\\onedrive\\bureau\\yolov8\\pyro-mlops\\.venv\\lib\\site-packages (from matplotlib>=3.3.0->ultralytics) (24.1)\n",
      "Requirement already satisfied: pyparsing>=2.3.1 in c:\\users\\maeva\\onedrive\\bureau\\yolov8\\pyro-mlops\\.venv\\lib\\site-packages (from matplotlib>=3.3.0->ultralytics) (3.1.2)\n",
      "Requirement already satisfied: python-dateutil>=2.7 in c:\\users\\maeva\\onedrive\\bureau\\yolov8\\pyro-mlops\\.venv\\lib\\site-packages (from matplotlib>=3.3.0->ultralytics) (2.9.0.post0)\n",
      "Requirement already satisfied: pytz>=2020.1 in c:\\users\\maeva\\onedrive\\bureau\\yolov8\\pyro-mlops\\.venv\\lib\\site-packages (from pandas>=1.1.4->ultralytics) (2024.1)\n",
      "Requirement already satisfied: tzdata>=2022.7 in c:\\users\\maeva\\onedrive\\bureau\\yolov8\\pyro-mlops\\.venv\\lib\\site-packages (from pandas>=1.1.4->ultralytics) (2024.1)\n",
      "Requirement already satisfied: charset-normalizer<4,>=2 in c:\\users\\maeva\\onedrive\\bureau\\yolov8\\pyro-mlops\\.venv\\lib\\site-packages (from requests>=2.23.0->ultralytics) (3.3.2)\n",
      "Requirement already satisfied: idna<4,>=2.5 in c:\\users\\maeva\\onedrive\\bureau\\yolov8\\pyro-mlops\\.venv\\lib\\site-packages (from requests>=2.23.0->ultralytics) (3.7)\n",
      "Requirement already satisfied: urllib3<3,>=1.21.1 in c:\\users\\maeva\\onedrive\\bureau\\yolov8\\pyro-mlops\\.venv\\lib\\site-packages (from requests>=2.23.0->ultralytics) (2.2.1)\n",
      "Requirement already satisfied: certifi>=2017.4.17 in c:\\users\\maeva\\onedrive\\bureau\\yolov8\\pyro-mlops\\.venv\\lib\\site-packages (from requests>=2.23.0->ultralytics) (2024.6.2)\n",
      "Requirement already satisfied: filelock in c:\\users\\maeva\\onedrive\\bureau\\yolov8\\pyro-mlops\\.venv\\lib\\site-packages (from torch>=1.8.0->ultralytics) (3.14.0)\n",
      "Requirement already satisfied: typing-extensions>=4.8.0 in c:\\users\\maeva\\onedrive\\bureau\\yolov8\\pyro-mlops\\.venv\\lib\\site-packages (from torch>=1.8.0->ultralytics) (4.12.2)\n",
      "Requirement already satisfied: sympy in c:\\users\\maeva\\onedrive\\bureau\\yolov8\\pyro-mlops\\.venv\\lib\\site-packages (from torch>=1.8.0->ultralytics) (1.12.1)\n",
      "Requirement already satisfied: networkx in c:\\users\\maeva\\onedrive\\bureau\\yolov8\\pyro-mlops\\.venv\\lib\\site-packages (from torch>=1.8.0->ultralytics) (3.3)\n",
      "Requirement already satisfied: jinja2 in c:\\users\\maeva\\onedrive\\bureau\\yolov8\\pyro-mlops\\.venv\\lib\\site-packages (from torch>=1.8.0->ultralytics) (3.1.4)\n",
      "Requirement already satisfied: fsspec in c:\\users\\maeva\\onedrive\\bureau\\yolov8\\pyro-mlops\\.venv\\lib\\site-packages (from torch>=1.8.0->ultralytics) (2024.6.0)\n",
      "Requirement already satisfied: mkl<=2021.4.0,>=2021.1.1 in c:\\users\\maeva\\onedrive\\bureau\\yolov8\\pyro-mlops\\.venv\\lib\\site-packages (from torch>=1.8.0->ultralytics) (2021.4.0)\n",
      "Requirement already satisfied: colorama in c:\\users\\maeva\\onedrive\\bureau\\yolov8\\pyro-mlops\\.venv\\lib\\site-packages (from tqdm>=4.64.0->ultralytics) (0.4.6)\n",
      "Requirement already satisfied: intel-openmp==2021.* in c:\\users\\maeva\\onedrive\\bureau\\yolov8\\pyro-mlops\\.venv\\lib\\site-packages (from mkl<=2021.4.0,>=2021.1.1->torch>=1.8.0->ultralytics) (2021.4.0)\n",
      "Requirement already satisfied: tbb==2021.* in c:\\users\\maeva\\onedrive\\bureau\\yolov8\\pyro-mlops\\.venv\\lib\\site-packages (from mkl<=2021.4.0,>=2021.1.1->torch>=1.8.0->ultralytics) (2021.12.0)\n",
      "Requirement already satisfied: six>=1.5 in c:\\users\\maeva\\onedrive\\bureau\\yolov8\\pyro-mlops\\.venv\\lib\\site-packages (from python-dateutil>=2.7->matplotlib>=3.3.0->ultralytics) (1.16.0)\n",
      "Requirement already satisfied: MarkupSafe>=2.0 in c:\\users\\maeva\\onedrive\\bureau\\yolov8\\pyro-mlops\\.venv\\lib\\site-packages (from jinja2->torch>=1.8.0->ultralytics) (2.1.5)\n",
      "Requirement already satisfied: mpmath<1.4.0,>=1.1.0 in c:\\users\\maeva\\onedrive\\bureau\\yolov8\\pyro-mlops\\.venv\\lib\\site-packages (from sympy->torch>=1.8.0->ultralytics) (1.3.0)\n",
      "Note: you may need to restart the kernel to use updated packages.\n"
     ]
    },
    {
     "name": "stderr",
     "output_type": "stream",
     "text": [
      "\n",
      "[notice] A new release of pip is available: 24.0 -> 24.1.1\n",
      "[notice] To update, run: python.exe -m pip install --upgrade pip\n"
     ]
    }
   ],
   "source": [
    "pip install --upgrade ultralytics\n"
   ]
  },
  {
   "cell_type": "code",
   "execution_count": 3,
   "id": "4c85b2aa",
   "metadata": {},
   "outputs": [
    {
     "name": "stderr",
     "output_type": "stream",
     "text": [
      "c:\\Users\\maeva\\OneDrive\\Bureau\\yolov8\\pyro-mlops\\.venv\\Lib\\site-packages\\tqdm\\auto.py:21: TqdmWarning: IProgress not found. Please update jupyter and ipywidgets. See https://ipywidgets.readthedocs.io/en/stable/user_install.html\n",
      "  from .autonotebook import tqdm as notebook_tqdm\n"
     ]
    }
   ],
   "source": [
    "from ultralytics import YOLOv10"
   ]
  },
  {
   "cell_type": "code",
   "execution_count": 10,
   "id": "60735ef8",
   "metadata": {},
   "outputs": [
    {
     "name": "stdout",
     "output_type": "stream",
     "text": [
      "Collecting git+https://github.com/THU-MIG/yolov10.git\n",
      "  Cloning https://github.com/THU-MIG/yolov10.git to c:\\users\\maeva\\appdata\\local\\temp\\pip-req-build-1iafxha4\n",
      "  Resolved https://github.com/THU-MIG/yolov10.git to commit 36efe34fe1126a4ce639403f1ce16fa0edbc16fd\n",
      "  Installing build dependencies: started\n",
      "  Installing build dependencies: finished with status 'done'\n",
      "  Getting requirements to build wheel: started\n",
      "  Getting requirements to build wheel: finished with status 'done'\n",
      "  Preparing metadata (pyproject.toml): started\n",
      "  Preparing metadata (pyproject.toml): finished with status 'done'\n",
      "Requirement already satisfied: matplotlib>=3.3.0 in c:\\users\\maeva\\onedrive\\bureau\\yolov10_2\\.venv\\lib\\site-packages (from ultralytics==8.1.34) (3.9.0)\n",
      "Requirement already satisfied: opencv-python>=4.6.0 in c:\\users\\maeva\\onedrive\\bureau\\yolov10_2\\.venv\\lib\\site-packages (from ultralytics==8.1.34) (4.10.0.82)\n",
      "Requirement already satisfied: pillow>=7.1.2 in c:\\users\\maeva\\onedrive\\bureau\\yolov10_2\\.venv\\lib\\site-packages (from ultralytics==8.1.34) (10.3.0)\n",
      "Requirement already satisfied: pyyaml>=5.3.1 in c:\\users\\maeva\\onedrive\\bureau\\yolov10_2\\.venv\\lib\\site-packages (from ultralytics==8.1.34) (6.0.1)\n",
      "Requirement already satisfied: requests>=2.23.0 in c:\\users\\maeva\\onedrive\\bureau\\yolov10_2\\.venv\\lib\\site-packages (from ultralytics==8.1.34) (2.32.3)\n",
      "Requirement already satisfied: scipy>=1.4.1 in c:\\users\\maeva\\onedrive\\bureau\\yolov10_2\\.venv\\lib\\site-packages (from ultralytics==8.1.34) (1.13.1)\n",
      "Requirement already satisfied: torch>=1.8.0 in c:\\users\\maeva\\onedrive\\bureau\\yolov10_2\\.venv\\lib\\site-packages (from ultralytics==8.1.34) (2.3.1)\n",
      "Requirement already satisfied: torchvision>=0.9.0 in c:\\users\\maeva\\onedrive\\bureau\\yolov10_2\\.venv\\lib\\site-packages (from ultralytics==8.1.34) (0.18.1)\n",
      "Requirement already satisfied: tqdm>=4.64.0 in c:\\users\\maeva\\onedrive\\bureau\\yolov10_2\\.venv\\lib\\site-packages (from ultralytics==8.1.34) (4.66.4)\n",
      "Requirement already satisfied: psutil in c:\\users\\maeva\\onedrive\\bureau\\yolov10_2\\.venv\\lib\\site-packages (from ultralytics==8.1.34) (5.9.8)\n",
      "Requirement already satisfied: py-cpuinfo in c:\\users\\maeva\\onedrive\\bureau\\yolov10_2\\.venv\\lib\\site-packages (from ultralytics==8.1.34) (9.0.0)\n",
      "Requirement already satisfied: thop>=0.1.1 in c:\\users\\maeva\\onedrive\\bureau\\yolov10_2\\.venv\\lib\\site-packages (from ultralytics==8.1.34) (0.1.1.post2209072238)\n",
      "Requirement already satisfied: pandas>=1.1.4 in c:\\users\\maeva\\onedrive\\bureau\\yolov10_2\\.venv\\lib\\site-packages (from ultralytics==8.1.34) (2.2.2)\n",
      "Requirement already satisfied: seaborn>=0.11.0 in c:\\users\\maeva\\onedrive\\bureau\\yolov10_2\\.venv\\lib\\site-packages (from ultralytics==8.1.34) (0.13.2)\n",
      "Requirement already satisfied: contourpy>=1.0.1 in c:\\users\\maeva\\onedrive\\bureau\\yolov10_2\\.venv\\lib\\site-packages (from matplotlib>=3.3.0->ultralytics==8.1.34) (1.2.1)\n",
      "Requirement already satisfied: cycler>=0.10 in c:\\users\\maeva\\onedrive\\bureau\\yolov10_2\\.venv\\lib\\site-packages (from matplotlib>=3.3.0->ultralytics==8.1.34) (0.12.1)\n",
      "Requirement already satisfied: fonttools>=4.22.0 in c:\\users\\maeva\\onedrive\\bureau\\yolov10_2\\.venv\\lib\\site-packages (from matplotlib>=3.3.0->ultralytics==8.1.34) (4.53.0)\n",
      "Requirement already satisfied: kiwisolver>=1.3.1 in c:\\users\\maeva\\onedrive\\bureau\\yolov10_2\\.venv\\lib\\site-packages (from matplotlib>=3.3.0->ultralytics==8.1.34) (1.4.5)\n",
      "Requirement already satisfied: numpy>=1.23 in c:\\users\\maeva\\onedrive\\bureau\\yolov10_2\\.venv\\lib\\site-packages (from matplotlib>=3.3.0->ultralytics==8.1.34) (1.26.4)\n",
      "Requirement already satisfied: packaging>=20.0 in c:\\users\\maeva\\onedrive\\bureau\\yolov10_2\\.venv\\lib\\site-packages (from matplotlib>=3.3.0->ultralytics==8.1.34) (24.1)\n",
      "Requirement already satisfied: pyparsing>=2.3.1 in c:\\users\\maeva\\onedrive\\bureau\\yolov10_2\\.venv\\lib\\site-packages (from matplotlib>=3.3.0->ultralytics==8.1.34) (3.1.2)\n",
      "Requirement already satisfied: python-dateutil>=2.7 in c:\\users\\maeva\\onedrive\\bureau\\yolov10_2\\.venv\\lib\\site-packages (from matplotlib>=3.3.0->ultralytics==8.1.34) (2.9.0.post0)\n",
      "Requirement already satisfied: pytz>=2020.1 in c:\\users\\maeva\\onedrive\\bureau\\yolov10_2\\.venv\\lib\\site-packages (from pandas>=1.1.4->ultralytics==8.1.34) (2024.1)\n",
      "Requirement already satisfied: tzdata>=2022.7 in c:\\users\\maeva\\onedrive\\bureau\\yolov10_2\\.venv\\lib\\site-packages (from pandas>=1.1.4->ultralytics==8.1.34) (2024.1)\n",
      "Requirement already satisfied: charset-normalizer<4,>=2 in c:\\users\\maeva\\onedrive\\bureau\\yolov10_2\\.venv\\lib\\site-packages (from requests>=2.23.0->ultralytics==8.1.34) (3.3.2)\n",
      "Requirement already satisfied: idna<4,>=2.5 in c:\\users\\maeva\\onedrive\\bureau\\yolov10_2\\.venv\\lib\\site-packages (from requests>=2.23.0->ultralytics==8.1.34) (3.7)\n",
      "Requirement already satisfied: urllib3<3,>=1.21.1 in c:\\users\\maeva\\onedrive\\bureau\\yolov10_2\\.venv\\lib\\site-packages (from requests>=2.23.0->ultralytics==8.1.34) (2.2.1)\n",
      "Requirement already satisfied: certifi>=2017.4.17 in c:\\users\\maeva\\onedrive\\bureau\\yolov10_2\\.venv\\lib\\site-packages (from requests>=2.23.0->ultralytics==8.1.34) (2024.6.2)\n",
      "Requirement already satisfied: filelock in c:\\users\\maeva\\onedrive\\bureau\\yolov10_2\\.venv\\lib\\site-packages (from torch>=1.8.0->ultralytics==8.1.34) (3.15.1)\n",
      "Requirement already satisfied: typing-extensions>=4.8.0 in c:\\users\\maeva\\onedrive\\bureau\\yolov10_2\\.venv\\lib\\site-packages (from torch>=1.8.0->ultralytics==8.1.34) (4.12.2)\n",
      "Requirement already satisfied: sympy in c:\\users\\maeva\\onedrive\\bureau\\yolov10_2\\.venv\\lib\\site-packages (from torch>=1.8.0->ultralytics==8.1.34) (1.12.1)\n",
      "Requirement already satisfied: networkx in c:\\users\\maeva\\onedrive\\bureau\\yolov10_2\\.venv\\lib\\site-packages (from torch>=1.8.0->ultralytics==8.1.34) (3.3)\n",
      "Requirement already satisfied: jinja2 in c:\\users\\maeva\\onedrive\\bureau\\yolov10_2\\.venv\\lib\\site-packages (from torch>=1.8.0->ultralytics==8.1.34) (3.1.4)\n",
      "Requirement already satisfied: fsspec in c:\\users\\maeva\\onedrive\\bureau\\yolov10_2\\.venv\\lib\\site-packages (from torch>=1.8.0->ultralytics==8.1.34) (2024.6.0)\n",
      "Requirement already satisfied: mkl<=2021.4.0,>=2021.1.1 in c:\\users\\maeva\\onedrive\\bureau\\yolov10_2\\.venv\\lib\\site-packages (from torch>=1.8.0->ultralytics==8.1.34) (2021.4.0)\n",
      "Requirement already satisfied: colorama in c:\\users\\maeva\\onedrive\\bureau\\yolov10_2\\.venv\\lib\\site-packages (from tqdm>=4.64.0->ultralytics==8.1.34) (0.4.6)\n",
      "Requirement already satisfied: intel-openmp==2021.* in c:\\users\\maeva\\onedrive\\bureau\\yolov10_2\\.venv\\lib\\site-packages (from mkl<=2021.4.0,>=2021.1.1->torch>=1.8.0->ultralytics==8.1.34) (2021.4.0)\n",
      "Requirement already satisfied: tbb==2021.* in c:\\users\\maeva\\onedrive\\bureau\\yolov10_2\\.venv\\lib\\site-packages (from mkl<=2021.4.0,>=2021.1.1->torch>=1.8.0->ultralytics==8.1.34) (2021.12.0)\n",
      "Requirement already satisfied: six>=1.5 in c:\\users\\maeva\\onedrive\\bureau\\yolov10_2\\.venv\\lib\\site-packages (from python-dateutil>=2.7->matplotlib>=3.3.0->ultralytics==8.1.34) (1.16.0)\n",
      "Requirement already satisfied: MarkupSafe>=2.0 in c:\\users\\maeva\\onedrive\\bureau\\yolov10_2\\.venv\\lib\\site-packages (from jinja2->torch>=1.8.0->ultralytics==8.1.34) (2.1.5)\n",
      "Requirement already satisfied: mpmath<1.4.0,>=1.1.0 in c:\\users\\maeva\\onedrive\\bureau\\yolov10_2\\.venv\\lib\\site-packages (from sympy->torch>=1.8.0->ultralytics==8.1.34) (1.3.0)\n",
      "Building wheels for collected packages: ultralytics\n",
      "  Building wheel for ultralytics (pyproject.toml): started\n",
      "  Building wheel for ultralytics (pyproject.toml): finished with status 'done'\n",
      "  Created wheel for ultralytics: filename=ultralytics-8.1.34-py3-none-any.whl size=735249 sha256=cffb86b66405f10a85559a6ad0d256fe6f54c3bbe175965c9028180a1458cc6e\n",
      "  Stored in directory: C:\\Users\\maeva\\AppData\\Local\\Temp\\pip-ephem-wheel-cache-iamqwk6d\\wheels\\d0\\55\\9e\\5864f4bd6d2efcc6c2f915828bba6e8944fb5bcd5d782ca9f3\n",
      "Successfully built ultralytics\n",
      "Installing collected packages: ultralytics\n",
      "  Attempting uninstall: ultralytics\n",
      "    Found existing installation: ultralytics 8.2.31\n",
      "    Uninstalling ultralytics-8.2.31:\n",
      "      Successfully uninstalled ultralytics-8.2.31\n",
      "Successfully installed ultralytics-8.1.34\n",
      "Note: you may need to restart the kernel to use updated packages.\n"
     ]
    },
    {
     "name": "stderr",
     "output_type": "stream",
     "text": [
      "  Running command git clone --filter=blob:none --quiet https://github.com/THU-MIG/yolov10.git 'C:\\Users\\maeva\\AppData\\Local\\Temp\\pip-req-build-1iafxha4'\n"
     ]
    }
   ],
   "source": [
    "pip install git+https://github.com/THU-MIG/yolov10.git\n"
   ]
  },
  {
   "cell_type": "code",
   "execution_count": 4,
   "id": "497505e6",
   "metadata": {},
   "outputs": [],
   "source": [
    "from ultralytics.nn.tasks import YOLOv10DetectionModel"
   ]
  },
  {
   "cell_type": "code",
   "execution_count": 4,
   "id": "004ddb6b-2a6b-480b-b3ab-6ad05e323227",
   "metadata": {},
   "outputs": [
    {
     "name": "stderr",
     "output_type": "stream",
     "text": [
      "\n",
      "  0%|          | 0.00/5.59M [00:00<?, ?B/s]\n",
      " 13%|█▎        | 768k/5.59M [00:00<00:00, 7.55MB/s]\n",
      " 54%|█████▎    | 3.00M/5.59M [00:00<00:00, 16.3MB/s]\n",
      " 89%|████████▉ | 5.00M/5.59M [00:00<00:00, 18.0MB/s]\n",
      "100%|██████████| 5.59M/5.59M [00:00<00:00, 17.3MB/s]\n"
     ]
    },
    {
     "name": "stdout",
     "output_type": "stream",
     "text": [
      "Downloading https://github.com/ultralytics/assets/releases/download/v8.2.0/yolov10n.pt to '..\\weights\\yolov10n.pt'...\n",
      "Ultralytics YOLOv8.2.48 🚀 Python-3.11.4 torch-2.3.1+cpu CPU (Intel Core(TM) i7-8550U 1.80GHz)\n",
      "YOLOv10n summary (fused): 285 layers, 2762608 parameters, 0 gradients, 8.6 GFLOPs\n",
      "\n",
      "image 1/1 c:\\Users\\maeva\\OneDrive\\Bureau\\yolov8\\pyronear\\yolo_models\\yolov10_ultralytics\\image_test\\images\\train\\image3.jpg: 448x640 (no detections), 383.1ms\n",
      "Speed: 7.6ms preprocess, 383.1ms inference, 0.0ms postprocess per image at shape (1, 3, 448, 640)\n",
      "Results saved to \u001b[1mruns\\detect\\predict\u001b[0m\n",
      "💡 Learn more at https://docs.ultralytics.com/modes/predict\n"
     ]
    }
   ],
   "source": [
    "!yolo task=detect mode=predict conf=0.25 save=True model=../weights/yolov10n.pt source=image_test/images/train/image3.jpg"
   ]
  },
  {
   "cell_type": "markdown",
   "id": "67a08c47-fe52-4fe7-bb62-9db0953a7584",
   "metadata": {},
   "source": [
    "# Train Custom Model"
   ]
  },
  {
   "cell_type": "markdown",
   "id": "b7831465",
   "metadata": {},
   "source": [
    "**Configuration:** Specify the task, mode, number of epochs, batch size, and other parameters.\n",
    "\n",
    "**Model and Data:** Use an existing model as a starting point and specify your dataset configuration file"
   ]
  },
  {
   "cell_type": "code",
   "execution_count": 6,
   "id": "5622fead-38ae-43fe-abe8-a825ab81e596",
   "metadata": {},
   "outputs": [],
   "source": [
    "!yolo task=detect mode=train epochs=100 batch=16 plots=True model=weights/yolov10n.pt data=data_configuration.yaml"
   ]
  },
  {
   "cell_type": "markdown",
   "id": "b2471f8c-8d42-4d64-a04a-6d313d6eedf4",
   "metadata": {},
   "source": [
    "# Inference"
   ]
  },
  {
   "cell_type": "markdown",
   "id": "b8e9945a",
   "metadata": {},
   "source": [
    "Inference refers to the process of using a trained model to make predictions based on new input data. This contrasts with the training phase, where the model is learning from a dataset by adjusting its weights to minimize errors in its predictions."
   ]
  },
  {
   "cell_type": "markdown",
   "id": "6178481d",
   "metadata": {},
   "source": [
    "After training, you can perform inference using the best model weights obtained from training:\n",
    "\n",
    "**Command:** Similar to previous inference commands, but now using the new weights from training."
   ]
  },
  {
   "cell_type": "code",
   "execution_count": 5,
   "id": "d0110c25-74a8-43e6-a462-115a5459cd56",
   "metadata": {},
   "outputs": [
    {
     "name": "stderr",
     "output_type": "stream",
     "text": [
      "Traceback (most recent call last):\n",
      "  File \"<frozen runpy>\", line 198, in _run_module_as_main\n",
      "  File \"<frozen runpy>\", line 88, in _run_code\n",
      "  File \"c:\\Users\\maeva\\OneDrive\\Bureau\\pyronear\\yolov10\\.venv\\Scripts\\yolo.exe\\__main__.py\", line 4, in <module>\n",
      "  File \"c:\\Users\\maeva\\OneDrive\\Bureau\\pyronear\\yolov10\\.venv\\Lib\\site-packages\\ultralytics\\__init__.py\", line 5, in <module>\n",
      "    from ultralytics.data.explorer.explorer import Explorer\n",
      "  File \"c:\\Users\\maeva\\OneDrive\\Bureau\\pyronear\\yolov10\\.venv\\Lib\\site-packages\\ultralytics\\data\\explorer\\explorer.py\", line 18, in <module>\n",
      "    from ultralytics.models.yolo.model import YOLO\n",
      "  File \"c:\\Users\\maeva\\OneDrive\\Bureau\\pyronear\\yolov10\\.venv\\Lib\\site-packages\\ultralytics\\models\\__init__.py\", line 6, in <module>\n",
      "    from .yolov10 import YOLOv10\n",
      "ModuleNotFoundError: No module named 'ultralytics.models.yolov10'\n"
     ]
    }
   ],
   "source": [
    "!yolo task=detect mode=predict conf=0.25 save=True model=runs/detect/train/weights/best.pt source=image_test/images/train/image3.jpg"
   ]
  }
 ],
 "metadata": {
  "kernelspec": {
   "display_name": "Python 3 (ipykernel)",
   "language": "python",
   "name": "python3"
  },
  "language_info": {
   "codemirror_mode": {
    "name": "ipython",
    "version": 3
   },
   "file_extension": ".py",
   "mimetype": "text/x-python",
   "name": "python",
   "nbconvert_exporter": "python",
   "pygments_lexer": "ipython3",
   "version": "3.11.4"
  }
 },
 "nbformat": 4,
 "nbformat_minor": 5
}
